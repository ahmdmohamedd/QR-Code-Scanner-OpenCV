{
 "cells": [
  {
   "cell_type": "code",
   "execution_count": 6,
   "id": "66ce73b1-c69e-4a00-a44e-063fe4a5f9cc",
   "metadata": {},
   "outputs": [],
   "source": [
    "import cv2\n",
    "from pyzbar.pyzbar import decode\n",
    "import webbrowser\n",
    "import numpy as np"
   ]
  },
  {
   "cell_type": "markdown",
   "id": "7223bc70-0673-4f0d-92d9-3e1e214d08e0",
   "metadata": {},
   "source": [
    "# Initialize Webcam"
   ]
  },
  {
   "cell_type": "code",
   "execution_count": 7,
   "id": "a4ad16bd-667d-4b25-a240-2f90f67dd1d7",
   "metadata": {},
   "outputs": [],
   "source": [
    "def initialize_camera():\n",
    "    cap = cv2.VideoCapture(0)  # 0 is the default camera\n",
    "    if not cap.isOpened():\n",
    "        print(\"Error: Could not open the camera.\")\n",
    "        return None\n",
    "    return cap"
   ]
  },
  {
   "cell_type": "markdown",
   "id": "df44d368-8efa-41c3-9b60-ef2b2f99e551",
   "metadata": {},
   "source": [
    "# QR Code Detection with URL Opening\n",
    "In this function, we process each frame and attempt to detect and decode any QR code present in the frame and immediately open the link in a new browser tab once a URL is detected"
   ]
  },
  {
   "cell_type": "code",
   "execution_count": 8,
   "id": "758d6207-c85d-4b20-9e88-fdf9c15e8a25",
   "metadata": {},
   "outputs": [],
   "source": [
    "def detect_and_open_qr_code(frame):\n",
    "    # Decode the QR codes in the frame\n",
    "    decoded_objects = decode(frame)\n",
    "    \n",
    "    for obj in decoded_objects:\n",
    "        # Extract data from the QR code\n",
    "        qr_data = obj.data.decode(\"utf-8\")\n",
    "        \n",
    "        # Check if data is a URL and open it in a new tab\n",
    "        if qr_data.startswith(\"http://\") or qr_data.startswith(\"https://\"):\n",
    "            print(f\"Opening URL: {qr_data}\")\n",
    "            webbrowser.open_new_tab(qr_data)\n",
    "            return True  # Indicate a URL was found and opened\n",
    "\n",
    "    return False  # No URL detected"
   ]
  },
  {
   "cell_type": "markdown",
   "id": "f81c0b7b-cfc8-4ac3-a026-2abbbb67f84a",
   "metadata": {},
   "source": [
    "# Display and Scan Once QR is Detected\n",
    "This function will display the video feed and stop once a URL is detected and opened."
   ]
  },
  {
   "cell_type": "code",
   "execution_count": 9,
   "id": "fed4b598-28fb-40ce-84f4-ddff4d7997c0",
   "metadata": {},
   "outputs": [],
   "source": [
    "def start_qr_code_scanner():\n",
    "    cap = initialize_camera()\n",
    "    if cap is None:\n",
    "        return\n",
    "\n",
    "    try:\n",
    "        while True:\n",
    "            # Capture each frame\n",
    "            ret, frame = cap.read()\n",
    "            if not ret:\n",
    "                print(\"Failed to capture frame.\")\n",
    "                break\n",
    "            \n",
    "            # Detect QR code and open URL if detected\n",
    "            if detect_and_open_qr_code(frame):\n",
    "                print(\"QR Code detected and processed. Stopping camera.\")\n",
    "                break\n",
    "\n",
    "            # Display the frame\n",
    "            cv2.imshow(\"QR Code Scanner\", frame)\n",
    "\n",
    "            # Break if 'q' is pressed\n",
    "            if cv2.waitKey(1) & 0xFF == ord('q'):\n",
    "                break\n",
    "    finally:\n",
    "        # Release the camera and close the window\n",
    "        cap.release()\n",
    "        cv2.destroyAllWindows()"
   ]
  },
  {
   "cell_type": "markdown",
   "id": "bf605fc7-5623-4a59-a016-933433e65a43",
   "metadata": {},
   "source": [
    "# Run the QR Code Scanner"
   ]
  },
  {
   "cell_type": "code",
   "execution_count": 10,
   "id": "d141954d-a6f3-4f52-a971-e086669774b4",
   "metadata": {},
   "outputs": [
    {
     "name": "stdout",
     "output_type": "stream",
     "text": [
      "Opening URL: https://idemia-mobile-id.com/testqr-success\n",
      "QR Code detected and processed. Stopping camera.\n"
     ]
    }
   ],
   "source": [
    "start_qr_code_scanner()"
   ]
  }
 ],
 "metadata": {
  "kernelspec": {
   "display_name": "Python 3 (ipykernel)",
   "language": "python",
   "name": "python3"
  },
  "language_info": {
   "codemirror_mode": {
    "name": "ipython",
    "version": 3
   },
   "file_extension": ".py",
   "mimetype": "text/x-python",
   "name": "python",
   "nbconvert_exporter": "python",
   "pygments_lexer": "ipython3",
   "version": "3.9.18"
  }
 },
 "nbformat": 4,
 "nbformat_minor": 5
}
